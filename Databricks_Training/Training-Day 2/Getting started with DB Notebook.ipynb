{
 "cells": [
  {
   "cell_type": "code",
   "execution_count": 0,
   "metadata": {
    "application/vnd.databricks.v1+cell": {
     "cellMetadata": {
      "byteLimit": 2048000,
      "implicitDf": true,
      "rowLimit": 10000
     },
     "inputWidgets": {},
     "nuid": "b2477b7b-29f2-40be-80ed-a96c51b9e03e",
     "showTitle": true,
     "tableResultSettingsMap": {},
     "title": "Use Catalog"
    }
   },
   "outputs": [],
   "source": [
    "%sql\n",
    "use catalog saas;"
   ]
  },
  {
   "cell_type": "code",
   "execution_count": 0,
   "metadata": {
    "application/vnd.databricks.v1+cell": {
     "cellMetadata": {
      "byteLimit": 2048000,
      "implicitDf": true,
      "rowLimit": 10000
     },
     "inputWidgets": {},
     "nuid": "debcd5b8-b534-45dd-b929-26fdb0a05940",
     "showTitle": true,
     "tableResultSettingsMap": {},
     "title": "Creating  Schema"
    }
   },
   "outputs": [],
   "source": [
    "%sql\n",
    "Create schema if not exists saas.kavyasangavi;"
   ]
  },
  {
   "cell_type": "code",
   "execution_count": 0,
   "metadata": {
    "application/vnd.databricks.v1+cell": {
     "cellMetadata": {
      "byteLimit": 2048000,
      "implicitDf": true,
      "rowLimit": 10000
     },
     "inputWidgets": {},
     "nuid": "ff0c6ba4-4745-4288-8184-b747e961d104",
     "showTitle": true,
     "tableResultSettingsMap": {},
     "title": "Using the schema"
    }
   },
   "outputs": [],
   "source": [
    "%sql\n",
    "use saas.kavyasangavi;"
   ]
  },
  {
   "cell_type": "code",
   "execution_count": 0,
   "metadata": {
    "application/vnd.databricks.v1+cell": {
     "cellMetadata": {
      "byteLimit": 2048000,
      "rowLimit": 10000
     },
     "inputWidgets": {},
     "nuid": "d89f635a-b1c1-41f5-a1fa-a64297e9b38e",
     "showTitle": true,
     "tableResultSettingsMap": {},
     "title": "Dropping incorrect schema"
    }
   },
   "outputs": [],
   "source": [
    "%python\n",
    "spark.sql(\"DROP SCHEMA IF EXISTS saas.kavyas\")"
   ]
  },
  {
   "cell_type": "code",
   "execution_count": 0,
   "metadata": {
    "application/vnd.databricks.v1+cell": {
     "cellMetadata": {
      "byteLimit": 2048000,
      "implicitDf": true,
      "rowLimit": 10000
     },
     "inputWidgets": {},
     "nuid": "dd197d3f-24e0-47a2-9aea-179428563dd7",
     "showTitle": true,
     "tableResultSettingsMap": {},
     "title": "Creating Table"
    }
   },
   "outputs": [],
   "source": [
    "%sql\n",
    "create table if not exists saas.kavyasangavi.Tablename(id int, name string);"
   ]
  },
  {
   "cell_type": "code",
   "execution_count": 0,
   "metadata": {
    "application/vnd.databricks.v1+cell": {
     "cellMetadata": {
      "byteLimit": 2048000,
      "implicitDf": true,
      "rowLimit": 10000
     },
     "inputWidgets": {},
     "nuid": "7f811798-2ceb-4f6a-b6fa-4874d8e9cf06",
     "showTitle": true,
     "tableResultSettingsMap": {},
     "title": "Inserting values"
    }
   },
   "outputs": [],
   "source": [
    "%sql\n",
    "insert into saas.kavyasangavi.Tablename values (1,'Kavya');"
   ]
  },
  {
   "cell_type": "code",
   "execution_count": 0,
   "metadata": {
    "application/vnd.databricks.v1+cell": {
     "cellMetadata": {},
     "inputWidgets": {},
     "nuid": "c95b6f1a-5a7e-47d9-99fc-df77ab11e9ce",
     "showTitle": true,
     "tableResultSettingsMap": {},
     "title": "Creating View"
    }
   },
   "outputs": [],
   "source": [
    "create view saas.kavyasangavi.tablename_view as select * from saas.kavyasangavi.Tablename;\n",
    "select * from saas.kavyasangavi.tablename_view;"
   ]
  },
  {
   "cell_type": "code",
   "execution_count": 0,
   "metadata": {
    "application/vnd.databricks.v1+cell": {
     "cellMetadata": {
      "byteLimit": 2048000,
      "rowLimit": 10000
     },
     "inputWidgets": {},
     "nuid": "a15c01e9-84b3-4dac-baef-09263ea18e99",
     "showTitle": true,
     "tableResultSettingsMap": {},
     "title": "Querying the view"
    }
   },
   "outputs": [],
   "source": [
    "select * from saas.kavyasangavi.tablename_view;"
   ]
  },
  {
   "cell_type": "code",
   "execution_count": 0,
   "metadata": {
    "application/vnd.databricks.v1+cell": {
     "cellMetadata": {},
     "inputWidgets": {},
     "nuid": "f430876a-4316-4b7b-a815-e47278dbdd22",
     "showTitle": true,
     "tableResultSettingsMap": {},
     "title": "Function Syntax"
    }
   },
   "outputs": [],
   "source": [
    "create function saas.kavyasangavi.fullname(firstname string, lastname string) returns string return concat(firstname, lastname)"
   ]
  },
  {
   "cell_type": "code",
   "execution_count": 0,
   "metadata": {
    "application/vnd.databricks.v1+cell": {
     "cellMetadata": {
      "byteLimit": 2048000,
      "rowLimit": 10000
     },
     "inputWidgets": {},
     "nuid": "06a84a1a-015c-4055-9d5a-15dd0b41e550",
     "showTitle": true,
     "tableResultSettingsMap": {},
     "title": "Creating Function"
    }
   },
   "outputs": [],
   "source": [
    "create function saas.kavyasangavi.fullname(firstname string, lastname string)\n",
    "returns string\n",
    "return concat(firstname, lastname)"
   ]
  },
  {
   "cell_type": "code",
   "execution_count": 0,
   "metadata": {
    "application/vnd.databricks.v1+cell": {
     "cellMetadata": {
      "byteLimit": 2048000,
      "rowLimit": 10000
     },
     "inputWidgets": {},
     "nuid": "92475bb1-7dc0-48bf-b548-0e7e1e4b0242",
     "showTitle": true,
     "tableResultSettingsMap": {},
     "title": "Querying Function"
    }
   },
   "outputs": [],
   "source": [
    "select saas.kavyasangavi.fullname('Kavya',\"Sangavi\") as Fullname"
   ]
  },
  {
   "cell_type": "markdown",
   "metadata": {
    "application/vnd.databricks.v1+cell": {
     "cellMetadata": {},
     "inputWidgets": {},
     "nuid": "522ef5a4-d521-4edc-854c-0019336cbc16",
     "showTitle": false,
     "tableResultSettingsMap": {},
     "title": ""
    }
   },
   "source": [
    "![](https://docs.databricks.com/aws/en/database-objects/)"
   ]
  },
  {
   "cell_type": "markdown",
   "metadata": {
    "application/vnd.databricks.v1+cell": {
     "cellMetadata": {},
     "inputWidgets": {},
     "nuid": "acd0f41b-88d0-491d-9eb1-1dbb1360291c",
     "showTitle": false,
     "tableResultSettingsMap": {},
     "title": ""
    }
   },
   "source": [
    "![](/Volumes/saas/naval/raw/object-model.png)"
   ]
  },
  {
   "cell_type": "code",
   "execution_count": 0,
   "metadata": {
    "application/vnd.databricks.v1+cell": {
     "cellMetadata": {},
     "inputWidgets": {},
     "nuid": "deaf16c2-ab13-49c7-ab20-edf0cc27aa39",
     "showTitle": false,
     "tableResultSettingsMap": {},
     "title": ""
    }
   },
   "outputs": [],
   "source": []
  }
 ],
 "metadata": {
  "application/vnd.databricks.v1+notebook": {
   "computePreferences": null,
   "dashboards": [],
   "environmentMetadata": {
    "base_environment": "",
    "environment_version": "2"
   },
   "inputWidgetPreferences": null,
   "language": "sql",
   "notebookMetadata": {
    "mostRecentlyExecutedCommandWithImplicitDF": {
     "commandId": 6813725096930769,
     "dataframes": [
      "_sqldf"
     ]
    },
    "pythonIndentUnit": 4
   },
   "notebookName": "Getting started with DB Notebook",
   "widgets": {}
  },
  "language_info": {
   "name": "sql"
  }
 },
 "nbformat": 4,
 "nbformat_minor": 0
}
